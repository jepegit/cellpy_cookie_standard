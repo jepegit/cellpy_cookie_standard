{
 "cells": [
  {
   "cell_type": "markdown",
   "metadata": {},
   "source": [
    "# Processing cellpy batch - cycles"
   ]
  },
  {
   "cell_type": "markdown",
   "metadata": {},
   "source": [
    "### `{{cookiecutter.project_name}}::{{cookiecutter.session_id}}`"
   ]
  },
  {
   "cell_type": "markdown",
   "metadata": {
    "toc-hr-collapsed": true,
    "toc-nb-collapsed": true
   },
   "source": [
    "**Experimental-id:** `{{cookiecutter.notebook_name}}`  \n",
    "**Short-name:** `{{cookiecutter.session_id}}`  \n",
    "**Project:** `{{cookiecutter.project_name}}`  \n",
    "**By:** `{{cookiecutter.author_name}}`   \n",
    "**Date:** `{{cookiecutter.date}}`  "
   ]
  },
  {
   "cell_type": "markdown",
   "metadata": {},
   "source": [
    "## Imports and setup"
   ]
  },
  {
   "cell_type": "code",
   "execution_count": null,
   "metadata": {},
   "outputs": [],
   "source": [
    "import os\n",
    "import pathlib\n",
    "\n",
    "import numpy as np\n",
    "import pandas as pd\n",
    "import matplotlib.pyplot as plt\n",
    "import holoviews as hv\n",
    "from holoviews.core.io import Pickler, Unpickler\n",
    "import hvplot.pandas\n",
    "from holoviews import opts\n",
    "\n",
    "import cellpy\n",
    "from cellpy import prms\n",
    "from cellpy import prmreader\n",
    "from cellpy.utils import batch, helpers, plotutils"
   ]
  },
  {
   "cell_type": "code",
   "execution_count": null,
   "metadata": {},
   "outputs": [],
   "source": [
    "%matplotlib inline\n",
    "hv.extension('bokeh')\n",
    "pd.set_option('display.max_columns', 70)\n",
    "print(f\"cellpy version: {cellpy.__version__}\")"
   ]
  },
  {
   "cell_type": "code",
   "execution_count": null,
   "metadata": {},
   "outputs": [],
   "source": [
    "cellpy_batch_file = \"cellpy_batch_\" + \"{{cookiecutter.session_id}}\" + \".json\""
   ]
  },
  {
   "cell_type": "code",
   "execution_count": null,
   "metadata": {},
   "outputs": [],
   "source": [
    "b = batch.from_journal(cellpy_batch_file)\n",
    "b.link()\n",
    "cell_labels = b.experiment.cell_names\n",
    "print(\" cell labels: \")\n",
    "cell_labels"
   ]
  },
  {
   "cell_type": "code",
   "execution_count": null,
   "metadata": {},
   "outputs": [],
   "source": [
    "# # Remove bad cycles (if you have saved it to the journal session)\n",
    "# helpers.yank_outliers(b, remove_indexes=b.journal.session[\"bad_cycles\"])"
   ]
  },
  {
   "cell_type": "code",
   "execution_count": null,
   "metadata": {},
   "outputs": [],
   "source": [
    "# # It is usually nice to see the capacity plot in the same notebook.\n",
    "# # You can use the b.plot_summary() method or plotutils.bplot e.g.\n",
    "# plotutils.bplot(b, columns=[\"charge_capacity\"], max_cycle=100)"
   ]
  },
  {
   "cell_type": "markdown",
   "metadata": {},
   "source": [
    "## Plot all cycles"
   ]
  },
  {
   "cell_type": "markdown",
   "metadata": {},
   "source": [
    "This will output an interactive plot for all the cycles for each cell. If you want to only plot selected cycles you can use the `cycle` argument in the `get_cap` method, *e.g.*\n",
    "```python\n",
    "curves = d.get_cap(cycle=[1, 2, 3, 10, 100])\n",
    "```"
   ]
  },
  {
   "cell_type": "code",
   "execution_count": null,
   "metadata": {},
   "outputs": [],
   "source": [
    "# plot all cycles up to cycle 50\n",
    "voltage_curves = dict()\n",
    "cycle = list(range(1, 51))\n",
    "for label in cell_labels:\n",
    "    d = b.experiment.data[label]\n",
    "    curves = d.get_cap(cycle=cycle, label_cycle_number=True, interpolated=True, number_of_points=100)\n",
    "    if not curves.empty:\n",
    "        curve = hv.Curve(curves, kdims=\"capacity\", vdims=[\"voltage\", \"cycle\"]).groupby(\"cycle\").overlay()#.opts(show_legend=False)\n",
    "        voltage_curves[label] = curve\n",
    "    else:\n",
    "        print(f\"[{label} empty]\")\n",
    "NdLayout_voltage_curves = hv.NdLayout(voltage_curves, kdims='label').cols(3)"
   ]
  },
  {
   "cell_type": "code",
   "execution_count": null,
   "metadata": {},
   "outputs": [],
   "source": [
    "palette = 'Spectral'\n",
    "NdLayout_voltage_curves.opts(\n",
    "    hv.opts.Curve(color=hv.Palette(palette), tools=['hover']),\n",
    "    hv.opts.NdOverlay(shared_axes=False),\n",
    "    hv.opts.NdLayout(title=\"Voltage Curves\"),\n",
    ")"
   ]
  },
  {
   "cell_type": "markdown",
   "metadata": {},
   "source": [
    "## Making and saving cycles to html and pickle for later use"
   ]
  },
  {
   "cell_type": "code",
   "execution_count": null,
   "metadata": {},
   "outputs": [],
   "source": [
    "cell_id = b.experiment.cell_names[0]\n",
    "c = b.experiment.data[cell_id]"
   ]
  },
  {
   "cell_type": "code",
   "execution_count": null,
   "metadata": {},
   "outputs": [],
   "source": [
    "cycle = [1,2, 10, 20]\n",
    "\n",
    "curves = c.get_cap(cycle=cycle, label_cycle_number=True, interpolated=True, number_of_points=100)\n",
    "curves_fig = hv.Curve(curves, kdims=\"capacity\", \"cycle\", vdims=[\"voltage\", \"cycle\"]).groupby(\"cycle\").overlay()#.opts(show_legend=False)\n",
    "curves_fig"
   ]
  },
  {
   "cell_type": "code",
   "execution_count": null,
   "metadata": {},
   "outputs": [],
   "source": [
    "fig_label = f\"{{cookiecutter.session_id}}_{cell_id}_curves_evolution\"\n",
    "\n",
    "# export to html:\n",
    "hv.save(\n",
    "    curves_fig,\n",
    "    f\"out/{fig_label}.html\",\n",
    "    toolbar=True\n",
    ")\n",
    "\n",
    "# save as pickle (can be loaded in other notebooks)\n",
    "Pickler.save(curves_fig, f\"out/{fig_label}.hvz\",)"
   ]
  },
  {
   "cell_type": "markdown",
   "metadata": {},
   "source": [
    "## Select the main curves and save them"
   ]
  },
  {
   "cell_type": "markdown",
   "metadata": {},
   "source": [
    "For example:  \n",
    "- make a list with only the cell labels you want\n",
    "- make a list with the cycles you want\n",
    "- iterate and combine them into either one big dataframe or a list of list\n",
    "\n",
    "If you make a list of lists, you can save it using the `itertools.zip_longest` and `csv` method as described in the notes notebook ([link](00_{{cookiecutter.notebook_name}}_notes.ipynb))."
   ]
  },
  {
   "cell_type": "code",
   "execution_count": null,
   "metadata": {},
   "outputs": [],
   "source": []
  },
  {
   "cell_type": "markdown",
   "metadata": {},
   "source": [
    "## Links"
   ]
  },
  {
   "cell_type": "markdown",
   "metadata": {},
   "source": [
    "### Notebooks\n",
    "- notes and information [link](00_{{cookiecutter.notebook_name}}_notes.ipynb)\n",
    "- processing raw data [link](01_{{cookiecutter.notebook_name}}_loader.ipynb)\n",
    "- life [link](02_{{cookiecutter.notebook_name}}_life.ipynb)\n",
    "- cycles [link](03_{{cookiecutter.notebook_name}}_cycles.ipynb)\n",
    "- ica [link](04_{{cookiecutter.notebook_name}}_ica.ipynb)\n",
    "- plots [link](05_{{cookiecutter.notebook_name}}_plots.ipynb)"
   ]
  },
  {
   "cell_type": "code",
   "execution_count": null,
   "metadata": {},
   "outputs": [],
   "source": []
  }
 ],
 "metadata": {
  "kernelspec": {
   "display_name": "cellpy",
   "language": "python",
   "name": "cellpy"
  },
  "language_info": {
   "codemirror_mode": {
    "name": "ipython",
    "version": 3
   },
   "file_extension": ".py",
   "mimetype": "text/x-python",
   "name": "python",
   "nbconvert_exporter": "python",
   "pygments_lexer": "ipython3",
   "version": "3.10.4"
  }
 },
 "nbformat": 4,
 "nbformat_minor": 4
}
