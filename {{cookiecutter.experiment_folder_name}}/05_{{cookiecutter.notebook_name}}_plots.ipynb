{
 "cells": [
  {
   "cell_type": "markdown",
   "metadata": {},
   "source": [
    "# Processing cellpy batch - Output and plots"
   ]
  },
  {
   "cell_type": "markdown",
   "metadata": {},
   "source": [
    "### `{{cookiecutter.project_name}}::{{cookiecutter.session_id}}`"
   ]
  },
  {
   "cell_type": "markdown",
   "metadata": {
    "toc-hr-collapsed": true,
    "toc-nb-collapsed": true
   },
   "source": [
    "**Experimental-id:** `{{cookiecutter.notebook_name}}`  \n",
    "**Short-name:** `{{cookiecutter.session_id}}`  \n",
    "**Project:** `{{cookiecutter.project_name}}`  \n",
    "**By:** `{{cookiecutter.author_name}}`   \n",
    "**Date:** `{{cookiecutter.date}}`  "
   ]
  },
  {
   "cell_type": "markdown",
   "metadata": {},
   "source": [
    "Use this notebook to collect your main plots. The easiest way to do it is to pickle the \n",
    "`HoloViews` figures in the other notebooks and then load it again in this one."
   ]
  },
  {
   "cell_type": "code",
   "execution_count": null,
   "metadata": {},
   "outputs": [],
   "source": [
    "import os\n",
    "import pathlib\n",
    "from contextlib import contextmanager\n",
    "\n",
    "from IPython.utils import io\n",
    "import numpy as np\n",
    "import pandas as pd\n",
    "import matplotlib.pyplot as plt\n",
    "import holoviews as hv\n",
    "from holoviews.core.io import Pickler, Unpickler\n",
    "import hvplot.pandas\n",
    "from holoviews import opts\n",
    "\n",
    "import cellpy\n",
    "from cellpy import prms\n",
    "from cellpy import prmreader\n",
    "from cellpy.utils import batch, helpers, plotutils"
   ]
  },
  {
   "cell_type": "code",
   "execution_count": null,
   "metadata": {},
   "outputs": [],
   "source": [
    "%matplotlib inline\n",
    "pd.set_option('display.max_columns', 70)\n",
    "with io.capture_output() as captured:   \n",
    "    hv.extension('bokeh', logo=False)\n",
    "print(f\"cellpy version: {cellpy.__version__}\")"
   ]
  },
  {
   "cell_type": "code",
   "execution_count": null,
   "metadata": {},
   "outputs": [],
   "source": []
  },
  {
   "cell_type": "markdown",
   "metadata": {},
   "source": [
    "### Your pickled HoloViews figures"
   ]
  },
  {
   "cell_type": "code",
   "execution_count": null,
   "metadata": {},
   "outputs": [],
   "source": [
    "out = pathlib.Path(\"out\")\n",
    "pickles = list(out.glob(\"*.hvz\"))\n",
    "if pickles:\n",
    "    print(\"You got some pickles:\")\n",
    "    for i, f in enumerate(pickles):\n",
    "        print(f\"[{i}]: {f}\")\n",
    "else:\n",
    "    print(\"No pickles for you, my friend!\")"
   ]
  },
  {
   "cell_type": "markdown",
   "metadata": {},
   "source": [
    "**Example 1. Loading the first pickled hv figure:**"
   ]
  },
  {
   "cell_type": "code",
   "execution_count": null,
   "metadata": {},
   "outputs": [],
   "source": [
    "if pickles:\n",
    "    fig00 = Unpickler.load(pickles[0])"
   ]
  },
  {
   "cell_type": "code",
   "execution_count": null,
   "metadata": {},
   "outputs": [],
   "source": [
    "# # Show the figure\n",
    "# fig00"
   ]
  },
  {
   "cell_type": "markdown",
   "metadata": {},
   "source": [
    "**Example 2. Rendering as a matplotlib figure:**"
   ]
  },
  {
   "cell_type": "code",
   "execution_count": null,
   "metadata": {},
   "outputs": [],
   "source": [
    "# fig00_m = hv.render(fig00, backend=\"matplotlib\")\n",
    "# fig00_m"
   ]
  },
  {
   "cell_type": "markdown",
   "metadata": {},
   "source": [
    "**Example 3. Using context manager for rendering in matplotlib:**"
   ]
  },
  {
   "cell_type": "code",
   "execution_count": null,
   "metadata": {},
   "outputs": [],
   "source": [
    "@contextmanager\n",
    "def matplotlib_renderer(*args, **kwds):\n",
    "    print(\"-> entering matplotlib rendering mode\")\n",
    "    with io.capture_output() as captured:   \n",
    "        hv.extension('matplotlib', logo=False)\n",
    "    try:\n",
    "        yield hv.render\n",
    "    finally:\n",
    "        with io.capture_output() as captured:   \n",
    "            hv.extension('bokeh', logo=False);\n",
    "        print(\"-> resume with original renderer\")"
   ]
  },
  {
   "cell_type": "code",
   "execution_count": null,
   "metadata": {},
   "outputs": [],
   "source": [
    "# with matplotlib_renderer() as render:\n",
    "#     fig00_m = render(fig00)"
   ]
  },
  {
   "cell_type": "code",
   "execution_count": null,
   "metadata": {},
   "outputs": [],
   "source": [
    "# fig00_m"
   ]
  },
  {
   "cell_type": "markdown",
   "metadata": {},
   "source": [
    "### Life-time plots"
   ]
  },
  {
   "cell_type": "code",
   "execution_count": null,
   "metadata": {},
   "outputs": [],
   "source": []
  },
  {
   "cell_type": "code",
   "execution_count": null,
   "metadata": {},
   "outputs": [],
   "source": []
  },
  {
   "cell_type": "code",
   "execution_count": null,
   "metadata": {},
   "outputs": [],
   "source": []
  },
  {
   "cell_type": "code",
   "execution_count": null,
   "metadata": {},
   "outputs": [],
   "source": []
  },
  {
   "cell_type": "markdown",
   "metadata": {},
   "source": [
    "### Rate-plots"
   ]
  },
  {
   "cell_type": "code",
   "execution_count": null,
   "metadata": {},
   "outputs": [],
   "source": []
  },
  {
   "cell_type": "markdown",
   "metadata": {},
   "source": [
    "### Cycle plots"
   ]
  },
  {
   "cell_type": "code",
   "execution_count": null,
   "metadata": {},
   "outputs": [],
   "source": []
  },
  {
   "cell_type": "code",
   "execution_count": null,
   "metadata": {},
   "outputs": [],
   "source": []
  },
  {
   "cell_type": "code",
   "execution_count": null,
   "metadata": {},
   "outputs": [],
   "source": []
  },
  {
   "cell_type": "markdown",
   "metadata": {},
   "source": [
    "### ICA plots"
   ]
  },
  {
   "cell_type": "code",
   "execution_count": null,
   "metadata": {},
   "outputs": [],
   "source": []
  },
  {
   "cell_type": "code",
   "execution_count": null,
   "metadata": {},
   "outputs": [],
   "source": []
  },
  {
   "cell_type": "markdown",
   "metadata": {},
   "source": [
    "### OCV plots"
   ]
  },
  {
   "cell_type": "code",
   "execution_count": null,
   "metadata": {},
   "outputs": [],
   "source": []
  },
  {
   "cell_type": "code",
   "execution_count": null,
   "metadata": {},
   "outputs": [],
   "source": []
  },
  {
   "cell_type": "markdown",
   "metadata": {},
   "source": [
    "### Summary plots"
   ]
  },
  {
   "cell_type": "code",
   "execution_count": null,
   "metadata": {},
   "outputs": [],
   "source": []
  },
  {
   "cell_type": "code",
   "execution_count": null,
   "metadata": {},
   "outputs": [],
   "source": []
  },
  {
   "cell_type": "markdown",
   "metadata": {},
   "source": [
    "## Links"
   ]
  },
  {
   "cell_type": "markdown",
   "metadata": {},
   "source": [
    "### Notebooks\n",
    "- notes and information [link](00_{{cookiecutter.notebook_name}}_notes.ipynb)\n",
    "- processing raw data [link](01_{{cookiecutter.notebook_name}}_loader.ipynb)\n",
    "- life [link](02_{{cookiecutter.notebook_name}}_life.ipynb)\n",
    "- cycles [link](03_{{cookiecutter.notebook_name}}_cycles.ipynb)\n",
    "- ica [link](04_{{cookiecutter.notebook_name}}_ica.ipynb)\n",
    "- plots [link](05_{{cookiecutter.notebook_name}}_plots.ipynb)"
   ]
  }
 ],
 "metadata": {
  "kernelspec": {
   "display_name": "cellpy",
   "language": "python",
   "name": "cellpy"
  },
  "language_info": {
   "codemirror_mode": {
    "name": "ipython",
    "version": 3
   },
   "file_extension": ".py",
   "mimetype": "text/x-python",
   "name": "python",
   "nbconvert_exporter": "python",
   "pygments_lexer": "ipython3",
   "version": "3.9.9"
  }
 },
 "nbformat": 4,
 "nbformat_minor": 4
}
