{
 "cells": [
  {
   "cell_type": "markdown",
   "metadata": {},
   "source": [
    "# Processing cellpy batch - ica"
   ]
  },
  {
   "cell_type": "markdown",
   "metadata": {},
   "source": [
    "### `{{cookiecutter.project_name}}::{{cookiecutter.session_id}}`"
   ]
  },
  {
   "cell_type": "markdown",
   "metadata": {
    "toc-hr-collapsed": true,
    "toc-nb-collapsed": true
   },
   "source": [
    "**Experimental-id:** `{{cookiecutter.notebook_name}}`  \n",
    "**Short-name:** `{{cookiecutter.session_id}}`  \n",
    "**Project:** `{{cookiecutter.project_name}}`  \n",
    "**By:** `{{cookiecutter.author_name}}`   \n",
    "**Date:** `{{cookiecutter.date}}`  "
   ]
  },
  {
   "cell_type": "markdown",
   "metadata": {},
   "source": [
    "## Imports and setup"
   ]
  },
  {
   "cell_type": "code",
   "execution_count": null,
   "metadata": {},
   "outputs": [],
   "source": [
    "import os\n",
    "import pathlib\n",
    "\n",
    "import numpy as np\n",
    "import pandas as pd\n",
    "import matplotlib.pyplot as plt\n",
    "import holoviews as hv\n",
    "from holoviews.core.io import Pickler, Unpickler\n",
    "import hvplot.pandas\n",
    "from holoviews import opts\n",
    "\n",
    "import cellpy\n",
    "from cellpy import prms\n",
    "from cellpy import prmreader\n",
    "from cellpy.utils import batch, helpers, plotutils, ica"
   ]
  },
  {
   "cell_type": "code",
   "execution_count": null,
   "metadata": {},
   "outputs": [],
   "source": [
    "%matplotlib inline\n",
    "hv.extension('bokeh')\n",
    "pd.set_option('display.max_columns', 70)\n",
    "print(f\"cellpy version: {cellpy.__version__}\")"
   ]
  },
  {
   "cell_type": "code",
   "execution_count": null,
   "metadata": {},
   "outputs": [],
   "source": [
    "cellpy_batch_file = \"cellpy_batch_\" + \"{{cookiecutter.session_id}}\" + \".json\""
   ]
  },
  {
   "cell_type": "code",
   "execution_count": null,
   "metadata": {},
   "outputs": [],
   "source": [
    "b = batch.from_journal(cellpy_batch_file)\n",
    "b.link()\n",
    "cell_labels = b.experiment.cell_names\n",
    "print(\" cell labels: \")\n",
    "cell_labels"
   ]
  },
  {
   "cell_type": "code",
   "execution_count": null,
   "metadata": {},
   "outputs": [],
   "source": [
    "# # Remove bad cycles (if you have saved it to the journal session)\n",
    "# helpers.yank_outliers(b, remove_indexes=b.journal.session[\"bad_cycles\"])"
   ]
  },
  {
   "cell_type": "code",
   "execution_count": null,
   "metadata": {},
   "outputs": [],
   "source": [
    "# # It is usually nice to see the capacity plot in the same notebook.\n",
    "# # You can use the b.plot_summary() method or plotutils.bplot e.g.\n",
    "# plotutils.bplot(b, columns=[\"charge_capacity\"], max_cycle=100)"
   ]
  },
  {
   "cell_type": "markdown",
   "metadata": {},
   "source": [
    "## Plotting"
   ]
  },
  {
   "cell_type": "markdown",
   "metadata": {},
   "source": [
    "This will output an interactive ica plot for 100 first cycles for each cell."
   ]
  },
  {
   "cell_type": "code",
   "execution_count": null,
   "metadata": {},
   "outputs": [],
   "source": [
    "ica_curves = dict()\n",
    "cycles = range(1, 101)\n",
    "for label in b.experiment.cell_names:\n",
    "    print(label)\n",
    "    d = b.experiment.data[label]\n",
    "    try:\n",
    "        tidy_ica = ica.dqdv_frames(d, cycle=cycles, voltage_resolution=0.005)\n",
    "    except:\n",
    "        print(f\"[{label} unsuccessfull]\")\n",
    "    else:\n",
    "        ica_curve = hv.Curve(tidy_ica, kdims='voltage', vdims=['dq', 'cycle'], label=\"Incremental capacity plot\").groupby(\"cycle\").overlay().opts(show_legend=False)\n",
    "        ica_curves[label] = ica_curve"
   ]
  },
  {
   "cell_type": "code",
   "execution_count": null,
   "metadata": {},
   "outputs": [],
   "source": [
    "NdLayout_ica = hv.NdLayout(ica_curves, kdims='label').cols(3)"
   ]
  },
  {
   "cell_type": "code",
   "execution_count": null,
   "metadata": {},
   "outputs": [],
   "source": [
    "palette = 'Spectral'\n",
    "NdLayout_ica.opts(\n",
    "    hv.opts.Curve(color=hv.Palette(palette), tools=['hover'], xlim=(0.05,0.8)),\n",
    "    hv.opts.NdOverlay(shared_axes=False),\n",
    "    hv.opts.NdLayout()\n",
    ")"
   ]
  },
  {
   "cell_type": "markdown",
   "metadata": {},
   "source": [
    "## Tweaking dQ/dV parameters"
   ]
  },
  {
   "cell_type": "code",
   "execution_count": null,
   "metadata": {},
   "outputs": [],
   "source": [
    "cell_id = b.experiment.cell_names[0]\n",
    "c = b.experiment.data[cell_id]\n",
    "cycle_number = 4"
   ]
  },
  {
   "cell_type": "code",
   "execution_count": null,
   "metadata": {},
   "outputs": [],
   "source": [
    "cycle = c.get_cap(cycle=cycle_number, categorical_column=True, method=\"forth-and-forth\", insert_nan=False)"
   ]
  },
  {
   "cell_type": "code",
   "execution_count": null,
   "metadata": {},
   "outputs": [],
   "source": [
    "voltage_1, incremental_1 = ica.dqdv_cycle(cycle)\n",
    "curve1 = hv.Curve((voltage_1, incremental_1), label=\"one\").opts(width=800, xlabel=\"Voltage\", ylabel=\"dqdv\")\n",
    "curve1"
   ]
  },
  {
   "cell_type": "code",
   "execution_count": null,
   "metadata": {},
   "outputs": [],
   "source": [
    "voltage_2, incremental_2 = ica.dqdv_cycle(cycle, voltage_resolution=0.01)\n",
    "curve2 = hv.Curve((voltage_2, incremental_2), label=\"two\").opts(width=800, xlabel=\"Voltage\", ylabel=\"dqdv\")\n",
    "curve1 * curve2"
   ]
  },
  {
   "cell_type": "markdown",
   "metadata": {},
   "source": [
    "## Making and saving dQ/dV to html and pickle for later use"
   ]
  },
  {
   "cell_type": "code",
   "execution_count": null,
   "metadata": {},
   "outputs": [],
   "source": [
    "cell_id = b.experiment.cell_names[0]\n",
    "c = b.experiment.data[cell_id]"
   ]
  },
  {
   "cell_type": "code",
   "execution_count": null,
   "metadata": {},
   "outputs": [],
   "source": [
    "cycle = [1,2, 10, 20]\n",
    "tidy_ica = ica.dqdv_frames(c, cycle=cycles, voltage_resolution=0.005, normalizing_factor=1)\n",
    "curves = hv.Curve(tidy_ica, kdims=['voltage', 'cycle'], vdims=['dq']).groupby(\"cycle\").overlay()\n",
    "# setting options using the hv.opts API\n",
    "\n",
    "curves.opts(\n",
    "    hv.opts.Curve(\n",
    "        color=hv.Cycle('Category20'),\n",
    "    ),\n",
    "    hv.opts.NdOverlay(\n",
    "        title=f\"Evolution [{cell_id}]\",\n",
    "        show_legend=True,\n",
    "        legend_position=\"right\",\n",
    "        width=600,\n",
    "        xlim=(0, 1),\n",
    "        ylim=(-10, 5),\n",
    "        ylabel=\"dQ/dV\",\n",
    "    ),\n",
    ")"
   ]
  },
  {
   "cell_type": "code",
   "execution_count": null,
   "metadata": {},
   "outputs": [],
   "source": [
    "fig_label = f\"{{cookiecutter.session_id}}_{cell_id}_ica_evolution\"\n",
    "\n",
    "# export to html:\n",
    "hv.save(\n",
    "    curves,\n",
    "    f\"out/{fig_label}.html\",\n",
    "    toolbar=True\n",
    ")\n",
    "\n",
    "# save as pickle (can be loaded in other notebooks)\n",
    "Pickler.save(curves, f\"out/{fig_label}.hvz\",)"
   ]
  },
  {
   "cell_type": "markdown",
   "metadata": {},
   "source": [
    "## Saving dQ/dV to csv files\n",
    "This can be usefull for plotting with another plotting software"
   ]
  },
  {
   "cell_type": "code",
   "execution_count": null,
   "metadata": {},
   "outputs": [],
   "source": [
    "# Saving the dQ/dV data for the three first cycles (formation) for all cells except the last\n",
    "out = pathlib.Path(\"data/processed\")\n",
    "ica_curves = dict()\n",
    "cycles = [1,2,3]\n",
    "selected_cell_labels = cell_labels[:-1]  # skipping the last cell\n",
    "for label in selected_cell_labels:\n",
    "    print(label)\n",
    "    d = b.experiment.data[label]\n",
    "    try:\n",
    "        wide_ica = ica.dqdv_frames(d, cycle=cycles, voltage_resolution=0.005, tidy=False)\n",
    "    except:\n",
    "        print(f\"[{label} unsuccessfull]\")\n",
    "    else:\n",
    "        fname = f\"{label}_ica_formation.csv\"\n",
    "        wide_ica.to_csv(out / fname, sep=\";\", index=False)\n",
    "        print(f\" -> saved to {out / fname}\")\n",
    "        "
   ]
  },
  {
   "cell_type": "markdown",
   "metadata": {},
   "source": [
    "## Links"
   ]
  },
  {
   "cell_type": "markdown",
   "metadata": {},
   "source": [
    "### Notebooks\n",
    "- notes and information [link](00_{{cookiecutter.notebook_name}}_notes.ipynb)\n",
    "- processing raw data [link](01_{{cookiecutter.notebook_name}}_loader.ipynb)\n",
    "- life [link](02_{{cookiecutter.notebook_name}}_life.ipynb)\n",
    "- cycles [link](03_{{cookiecutter.notebook_name}}_cycles.ipynb)\n",
    "- ica [link](04_{{cookiecutter.notebook_name}}_ica.ipynb)\n",
    "- plots [link](05_{{cookiecutter.notebook_name}}_plots.ipynb)"
   ]
  }
 ],
 "metadata": {
  "kernelspec": {
   "display_name": "cellpy",
   "language": "python",
   "name": "cellpy"
  },
  "language_info": {
   "codemirror_mode": {
    "name": "ipython",
    "version": 3
   },
   "file_extension": ".py",
   "mimetype": "text/x-python",
   "name": "python",
   "nbconvert_exporter": "python",
   "pygments_lexer": "ipython3",
   "version": "3.10.4"
  }
 },
 "nbformat": 4,
 "nbformat_minor": 4
}
