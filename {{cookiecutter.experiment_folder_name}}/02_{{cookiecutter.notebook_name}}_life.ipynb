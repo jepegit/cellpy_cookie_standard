{
 "cells": [
  {
   "cell_type": "markdown",
   "metadata": {},
   "source": [
    "# Processing cellpy batch - life"
   ]
  },
  {
   "cell_type": "markdown",
   "metadata": {},
   "source": [
    "### `{{cookiecutter.project_name}}::{{cookiecutter.session_id}}`"
   ]
  },
  {
   "cell_type": "markdown",
   "metadata": {
    "toc-hr-collapsed": true,
    "toc-nb-collapsed": true
   },
   "source": [
    "**Experimental-id:** `{{cookiecutter.notebook_name}}`  \n",
    "**Short-name:** `{{cookiecutter.session_id}}`  \n",
    "**Project:** `{{cookiecutter.project_name}}`  \n",
    "**By:** `{{cookiecutter.author_name}}`   \n",
    "**Date:** `{{cookiecutter.date}}`  "
   ]
  },
  {
   "cell_type": "markdown",
   "metadata": {},
   "source": [
    "## Imports and setup"
   ]
  },
  {
   "cell_type": "markdown",
   "metadata": {},
   "source": [
    "Note! This template was made for `cellpy` version 0.4.1.a1"
   ]
  },
  {
   "cell_type": "code",
   "execution_count": null,
   "metadata": {},
   "outputs": [],
   "source": [
    "import os\n",
    "import pathlib\n",
    "\n",
    "import numpy as np\n",
    "import pandas as pd\n",
    "import matplotlib.pyplot as plt\n",
    "import holoviews as hv\n",
    "from holoviews.core.io import Pickler, Unpickler\n",
    "import hvplot.pandas\n",
    "from holoviews import opts\n",
    "\n",
    "import cellpy\n",
    "from cellpy import prms\n",
    "from cellpy import prmreader\n",
    "from cellpy.utils import batch, helpers, plotutils"
   ]
  },
  {
   "cell_type": "code",
   "execution_count": null,
   "metadata": {},
   "outputs": [],
   "source": [
    "%matplotlib inline\n",
    "hv.extension('bokeh')\n",
    "pd.set_option('display.max_columns', 70)\n",
    "print(f\"cellpy version: {cellpy.__version__}\")"
   ]
  },
  {
   "cell_type": "code",
   "execution_count": null,
   "metadata": {},
   "outputs": [],
   "source": [
    "cellpy_batch_file = \"cellpy_batch_\" + \"{{cookiecutter.session_id}}\" + \".json\""
   ]
  },
  {
   "cell_type": "code",
   "execution_count": null,
   "metadata": {},
   "outputs": [],
   "source": [
    "b = batch.from_journal(cellpy_batch_file)"
   ]
  },
  {
   "cell_type": "markdown",
   "metadata": {},
   "source": [
    "If you would like to only focus on a sub-set of the cells, you should\n",
    "modify your journal pages here before linking it to the cellpy-data files.\n",
    "\n",
    "For example, you can select only the five last cells like this:\n",
    "```python\n",
    "b.pages = b.pages.iloc[-5:]\n",
    "```\n",
    "\n",
    "Remember, the journal pages is a `pandas.DataFrame` so you have tons of options for tweaking it.\n",
    "It is recommended that you do a linking (`b.link()` or `b.update()`) after removing or adding cells to the journal."
   ]
  },
  {
   "cell_type": "code",
   "execution_count": null,
   "metadata": {},
   "outputs": [],
   "source": [
    "# b.pages = b.pages.iloc[-5:]"
   ]
  },
  {
   "cell_type": "markdown",
   "metadata": {},
   "source": [
    "### Linking"
   ]
  },
  {
   "cell_type": "code",
   "execution_count": null,
   "metadata": {},
   "outputs": [],
   "source": [
    "b.link()\n",
    "\n",
    "# or b.update() if you would like to get new data from the tester.\n",
    "\n",
    "cell_labels = b.experiment.cell_names\n",
    "print(\" cell labels: \")\n",
    "cell_labels"
   ]
  },
  {
   "cell_type": "markdown",
   "metadata": {},
   "source": [
    "## Preprosessing summaries"
   ]
  },
  {
   "cell_type": "markdown",
   "metadata": {},
   "source": [
    "You might want to add some code to edit the summaries before\n",
    "processing them. You usuall dont know what you will have to edit before\n",
    "you have done (at least parts of) the analysis. However, I advice that you always clean up your notebooks and put your pre-processing routines here so that it is easy to re-run the notebook (and understand it) later.\n",
    "\n",
    "A good way of doing this is to create a yanked batch object (using `helpers.yank_outliers` or `helpers.yank_after`)."
   ]
  },
  {
   "cell_type": "code",
   "execution_count": null,
   "metadata": {},
   "outputs": [],
   "source": [
    "# # example of dictionary used for input to yanking (the lists contains cycle-numbers that should be removed)\n",
    "# bad_cycle_numbers = {\n",
    "#     'cell_label_01':[4, 337, 338],\n",
    "#     'cell_label_01': [4, 336, 533],\n",
    "#     'cell_label_01': [4, 500],\n",
    "#     'cell_label_01':[4],\n",
    "#  }"
   ]
  },
  {
   "cell_type": "code",
   "execution_count": null,
   "metadata": {},
   "outputs": [],
   "source": [
    "# # example on how to create a \"yanked\" batch object:\n",
    "\n",
    "# removed = helpers.yank_outliers(b,\n",
    "#     zscore_limit=None,\n",
    "#     low=1000.0,\n",
    "#     high=6000.0,\n",
    "#     filter_cols=None,\n",
    "#     freeze_indexes=None,\n",
    "#     remove_indexes=bad_cycle_numbers)\n",
    "\n",
    "# # you can also save the info about removed cycles to your journal\n",
    "# b.journal.session[\"bad_cycles\"] = removed\n",
    "# b.save_journal()\n",
    "# b.duplicate_journal()"
   ]
  },
  {
   "cell_type": "code",
   "execution_count": null,
   "metadata": {},
   "outputs": [],
   "source": [
    "# # if your journal already contains information about bad cycles\n",
    "# # you can yank directly from the journal.session information:\n",
    "# helpers.yank_outliers(b, remove_indexes=b.journal.session[\"bad_cycles\"])"
   ]
  },
  {
   "cell_type": "code",
   "execution_count": null,
   "metadata": {},
   "outputs": [],
   "source": [
    "# # example on how to create a \"yanked\" batch object containing only cycles up to cycle 100\n",
    "# b_yanked = helpers.yank_after(b, 100)"
   ]
  },
  {
   "cell_type": "markdown",
   "metadata": {},
   "source": [
    "## Looking at concatenated summaries"
   ]
  },
  {
   "cell_type": "markdown",
   "metadata": {},
   "source": [
    "### Example: Plotting Average Life"
   ]
  },
  {
   "cell_type": "code",
   "execution_count": null,
   "metadata": {},
   "outputs": [],
   "source": [
    "csf = helpers.concatenate_summaries(b, columns=[\"charge_capacity\"], group_it=True)"
   ]
  },
  {
   "cell_type": "code",
   "execution_count": null,
   "metadata": {},
   "outputs": [],
   "source": [
    "p1 = plotutils.plot_concatenated(\n",
    "    csf, \n",
    "    journal=b.experiment.journal, marker_size=5,\n",
    "    extension=\"bokeh\",\n",
    "    height=500,\n",
    "    spread=True,\n",
    "    xlim=(0, 400),\n",
    "    ylim=(0, 4000),\n",
    ")\n",
    "p1"
   ]
  },
  {
   "cell_type": "code",
   "execution_count": null,
   "metadata": {},
   "outputs": [],
   "source": [
    "fig_label = \"{{cookiecutter.session_id}}_charge_cap\"\n",
    "\n",
    "# save as csv:\n",
    "csf.to_csv(\n",
    "    f\"data/processed/{fig_label}.csv\", \n",
    "    sep=\";\", index=True,\n",
    ")\n",
    "# export to html:\n",
    "hv.save(\n",
    "    p1,\n",
    "    f\"out/{fig_label}.html\",\n",
    "    toolbar=True\n",
    ")\n",
    "\n",
    "# save as pickle (can be loaded in other notebooks)\n",
    "Pickler.save(p1, f\"out/{fig_label}.hvz\",)"
   ]
  },
  {
   "cell_type": "markdown",
   "metadata": {},
   "source": [
    "### Example: Plotting average areal capacity versus normalized capacity\n",
    "In this example, only the first 1000 cycles are included."
   ]
  },
  {
   "cell_type": "code",
   "execution_count": null,
   "metadata": {},
   "outputs": [],
   "source": [
    "csf_area = helpers.concatenate_summaries(b, max_cycle=1000, add_areal=True, columns=[\"areal_charge_capacity\"], normalize_cycles=True, group_it=True)"
   ]
  },
  {
   "cell_type": "code",
   "execution_count": null,
   "metadata": {},
   "outputs": [],
   "source": [
    "p2 = plotutils.plot_concatenated(\n",
    "    csf_area, \n",
    "    journal=b.experiment.journal, marker_size=5,\n",
    "    extension=\"bokeh\",\n",
    "    height=500,\n",
    "    spread=True,\n",
    ")\n",
    "p2"
   ]
  },
  {
   "cell_type": "code",
   "execution_count": null,
   "metadata": {},
   "outputs": [],
   "source": [
    "fig_label = \"{{cookiecutter.session_id}}_mean_areal_cap_norm_cycles\"\n",
    "\n",
    "# save as csv:\n",
    "csf_area.to_csv(\n",
    "    f\"data/processed/{fig_label}.csv\", \n",
    "    sep=\";\", index=False,\n",
    ")\n",
    "# export to html:\n",
    "hv.save(\n",
    "    p2,\n",
    "    f\"out/{fig_label}.html\",\n",
    "    toolbar=True\n",
    ")\n",
    "\n",
    "# save as pickle (can be loaded in other notebooks)\n",
    "Pickler.save(p2, f\"out/{fig_label}.hvz\",)"
   ]
  },
  {
   "cell_type": "markdown",
   "metadata": {},
   "source": [
    "### Example: Plotting Average Life for slow cycles versus normalized capacity"
   ]
  },
  {
   "cell_type": "code",
   "execution_count": null,
   "metadata": {},
   "outputs": [],
   "source": [
    "csf_slow = helpers.concatenate_summaries(b, columns=[\"charge_capacity\"], rate=0.2, rate_std=0.02, normalize_cycles=True, group_it=True)"
   ]
  },
  {
   "cell_type": "code",
   "execution_count": null,
   "metadata": {},
   "outputs": [],
   "source": [
    "p3 = plotutils.plot_concatenated(\n",
    "    csf_slow, \n",
    "    journal=b.experiment.journal, marker_size=5,\n",
    "    extension=\"bokeh\",\n",
    "    height=500,\n",
    "    spread=True,\n",
    "    xlim=(0, 400),\n",
    "    ylim=(1000, 4000),\n",
    ")\n",
    "p3"
   ]
  },
  {
   "cell_type": "code",
   "execution_count": null,
   "metadata": {},
   "outputs": [],
   "source": [
    "fig_label = \"{{cookiecutter.session_id}}_slow_mean_cap_norm_cycles\"\n",
    "\n",
    "# save as csv:\n",
    "csf_slow.to_csv(\n",
    "    f\"data/processed/{fig_label}.csv\", \n",
    "    sep=\";\", index=False,\n",
    ")\n",
    "# export to html:\n",
    "hv.save(\n",
    "    p3,\n",
    "    f\"out/{fig_label}.html\",\n",
    "    toolbar=True\n",
    ")\n",
    "\n",
    "# save as pickle (can be loaded in other notebooks)\n",
    "Pickler.save(p3, f\"out/{fig_label}.hvz\",)"
   ]
  },
  {
   "cell_type": "markdown",
   "metadata": {},
   "source": [
    "### Example: Simplified plotting of Average Life and Coulombic Efficiency\n",
    "A convenience function combining `concatenate_summaries` and `plot_concatenated` also exists."
   ]
  },
  {
   "cell_type": "code",
   "execution_count": null,
   "metadata": {},
   "outputs": [],
   "source": [
    "plotutils.bplot(b, columns=[\"coulombic_efficiency\", \"charge_capacity\"], group_it=True)"
   ]
  },
  {
   "cell_type": "markdown",
   "metadata": {},
   "source": [
    "## Looking at individual summaries"
   ]
  },
  {
   "cell_type": "markdown",
   "metadata": {},
   "source": [
    "### Example: Plotting IR"
   ]
  },
  {
   "cell_type": "code",
   "execution_count": null,
   "metadata": {},
   "outputs": [],
   "source": [
    "cell_id = b.experiment.cell_names[0]\n",
    "c = b.experiment.data[cell_id]  # you can also use \"look-up\" by writing b.experiment.data.x and select from the pop-up\n",
    "s = c.cell.summary.reset_index()\n",
    "s.head()"
   ]
  },
  {
   "cell_type": "code",
   "execution_count": null,
   "metadata": {},
   "outputs": [],
   "source": [
    "s.hvplot(x=\"cycle_index\", y=\"ir_charge_u_Ohms\", xlabel=\"Cycle Index\", label=cell_id)"
   ]
  },
  {
   "cell_type": "markdown",
   "metadata": {},
   "source": [
    "## Looking at individual steps"
   ]
  },
  {
   "cell_type": "markdown",
   "metadata": {},
   "source": [
    "### Example: Viewing the steps"
   ]
  },
  {
   "cell_type": "code",
   "execution_count": null,
   "metadata": {},
   "outputs": [],
   "source": [
    "cell_id = b.experiment.cell_names[0]\n",
    "c = b.experiment.data[cell_id]\n",
    "t = c.cell.steps\n",
    "t.head()"
   ]
  },
  {
   "cell_type": "markdown",
   "metadata": {},
   "source": [
    "## Links"
   ]
  },
  {
   "cell_type": "markdown",
   "metadata": {},
   "source": [
    "### Notebooks\n",
    "- notes and information [link](00_{{cookiecutter.notebook_name}}_notes.ipynb)\n",
    "- processing raw data [link](01_{{cookiecutter.notebook_name}}_loader.ipynb)\n",
    "- life [link](02_{{cookiecutter.notebook_name}}_life.ipynb)\n",
    "- cycles [link](03_{{cookiecutter.notebook_name}}_cycles.ipynb)\n",
    "- ica [link](04_{{cookiecutter.notebook_name}}_ica.ipynb)\n",
    "- plots [link](05_{{cookiecutter.notebook_name}}_plots.ipynb)"
   ]
  }
 ],
 "metadata": {
  "kernelspec": {
   "display_name": "cellpy",
   "language": "python",
   "name": "cellpy"
  },
  "language_info": {
   "codemirror_mode": {
    "name": "ipython",
    "version": 3
   },
   "file_extension": ".py",
   "mimetype": "text/x-python",
   "name": "python",
   "nbconvert_exporter": "python",
   "pygments_lexer": "ipython3",
   "version": "3.10.4"
  }
 },
 "nbformat": 4,
 "nbformat_minor": 4
}
