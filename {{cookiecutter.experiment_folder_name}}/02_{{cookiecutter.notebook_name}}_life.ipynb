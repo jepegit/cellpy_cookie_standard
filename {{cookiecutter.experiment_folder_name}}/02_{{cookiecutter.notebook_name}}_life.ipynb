{
 "cells": [
  {
   "cell_type": "markdown",
   "metadata": {},
   "source": [
    "# {{cookiecutter.notebook_name}} - life"
   ]
  },
  {
   "cell_type": "code",
   "execution_count": null,
   "metadata": {},
   "outputs": [],
   "source": [
    "import numpy as np\n",
    "import pandas as pd\n",
    "import matplotlib.pyplot as plt\n",
    "import os\n",
    "import pathlib\n",
    "\n",
    "import cellpy\n",
    "from cellpy import prms\n",
    "from cellpy import prmreader\n",
    "from cellpy.utils import batch, helpers, plotutils\n",
    "import holoviews as hv\n",
    "import hvplot.pandas\n",
    "from holoviews import opts"
   ]
  },
  {
   "cell_type": "code",
   "execution_count": null,
   "metadata": {},
   "outputs": [],
   "source": [
    "%matplotlib inline\n",
    "hv.extension('bokeh')\n",
    "pd.set_option('display.max_columns', 70)"
   ]
  },
  {
   "cell_type": "code",
   "execution_count": null,
   "metadata": {},
   "outputs": [],
   "source": [
    "cellpy_batch_file = \"cellpy_batch_\" + \"{{cookiecutter.session_id}}\" + \".json\""
   ]
  },
  {
   "cell_type": "code",
   "execution_count": null,
   "metadata": {},
   "outputs": [],
   "source": [
    "b = batch.init(default_log_level=\"INFO\", db_reader=None)\n",
    "b.experiment.journal.from_file(cellpy_batch_file)\n",
    "b.link()\n",
    "cell_labels = b.experiment.cell_names\n",
    "print(\" cell labels: \".center(80, \"-\"))\n",
    "print(\" - \".join(cell_labels))"
   ]
  },
  {
   "cell_type": "code",
   "execution_count": null,
   "metadata": {},
   "outputs": [],
   "source": []
  },
  {
   "cell_type": "markdown",
   "metadata": {},
   "source": [
    "## Splitting\n",
    "Sometimes the experiments consists of several parts, for example both a rate test and life-time test. Here is an example of how to split experiments into several parts."
   ]
  },
  {
   "cell_type": "markdown",
   "metadata": {},
   "source": [
    "### Example script for splitting"
   ]
  },
  {
   "cell_type": "code",
   "execution_count": null,
   "metadata": {},
   "outputs": [],
   "source": [
    "#-------creating-summaries------\n",
    "first_lifetime_cycle = 23\n",
    "norm_cycles = [2, 3, 4, 5]\n",
    "life_summary_frames = []\n",
    "rate_summary_frames =[]\n",
    "keys = []\n",
    "\n",
    "for cell_id in b.experiment.cell_names:\n",
    "    # print(f\"Processing [{cell_id}]\", end=\" \")\n",
    "    keys.append(cell_id)  # replace this with another key-name (e.g. cell number)\n",
    "    \n",
    "    cell = b.experiment.data[cell_id]\n",
    "     \n",
    "    # needed now due to changes in cellpy after original files were processed:\n",
    "    cell.make_step_table() \n",
    "    cell.make_summary()\n",
    "    \n",
    "    # cell = helpers.add_c_rate(cell)\n",
    "    # cell = helpers.add_normalized_cycle_index(cell)\n",
    "    cell = helpers.add_normalized_capacity(cell, norm_cycles)\n",
    "    cell = helpers.add_areal_capacity(cell, cell_id, b.experiment.journal)\n",
    "    \n",
    "    cell_rate, cell_life = helpers.split_experiment(cell, first_lifetime_cycle)\n",
    "    characterisation_summary = helpers.select_summary_based_on_rate(cell_life)\n",
    "    life_summary_frames.append(characterisation_summary)\n",
    "    \n",
    "    #cell_rate = add_normalized_capacity(cell_rate, norm_cycles)\n",
    "    rate_summary_frames.append(cell_rate.dataset.dfsummary)\n",
    "    \n",
    "    # print(\"OK\")\n",
    "\n",
    "life_summary_cdf = pd.concat(life_summary_frames, keys=keys, axis=1)\n",
    "rate_summary_cdf = pd.concat(rate_summary_frames, keys=keys, axis=1)"
   ]
  },
  {
   "cell_type": "markdown",
   "metadata": {},
   "source": [
    "### Example: Plotting Life"
   ]
  },
  {
   "cell_type": "code",
   "execution_count": null,
   "metadata": {},
   "outputs": [],
   "source": [
    "char_curves_overlay = plotutils.concatenated_summary_curve_factory(\n",
    "    life_summary_cdf, \"Normalized_Cycle_Index\", \n",
    "    \"Charge_Capacity(mAh/g)\",\n",
    "    title=\"Life curves\",\n",
    ")\n",
    "char_curves_overlay"
   ]
  },
  {
   "cell_type": "code",
   "execution_count": null,
   "metadata": {},
   "outputs": [],
   "source": [
    "life_summary_cdf.to_csv(\n",
    "    \"data/processed/{{cookiecutter.session_id}}_life_cap_vs_norm.csv\", \n",
    "    sep=\";\"\n",
    ")"
   ]
  },
  {
   "cell_type": "markdown",
   "metadata": {},
   "source": [
    "### Example: Plotting Rate"
   ]
  },
  {
   "cell_type": "code",
   "execution_count": null,
   "metadata": {},
   "outputs": [],
   "source": [
    "rate_curves_overlay = plotutils.concatenated_summary_curve_factory(\n",
    "    rate_summary_cdf, \"Cycle_Index\", \n",
    "    \"Normalized_Charge_Capacity(mAh/g)\",\n",
    "    title=\"Rate curves\"\n",
    ")\n",
    "rate_curves_overlay"
   ]
  },
  {
   "cell_type": "code",
   "execution_count": null,
   "metadata": {},
   "outputs": [],
   "source": [
    "rate_summary_cdf.to_csv(\n",
    "    \"data/processed/{{cookiecutter.session_id}}_norm_rate_cap_vs_cycle.csv\", \n",
    "    sep=\";\"\n",
    ")"
   ]
  },
  {
   "cell_type": "markdown",
   "metadata": {},
   "source": [
    "## Compare"
   ]
  },
  {
   "cell_type": "code",
   "execution_count": null,
   "metadata": {},
   "outputs": [],
   "source": [
    "def concatenate_summaries(b):\n",
    "    frames = []\n",
    "    keys = []\n",
    "    for cell_id in b.experiment.cell_names:\n",
    "        print(f\"Processing [{cell_id}]\", end=\" \")\n",
    "        keys.append(cell_id)  # replace this with another key-name (e.g. cell number)\n",
    "        c = b.experiment.data[cell_id]\n",
    "        frames.append(c.cell.summary)\n",
    "    cdf = pd.concat(frames, keys=keys, axis=1)\n",
    "    return cdf"
   ]
  },
  {
   "cell_type": "code",
   "execution_count": null,
   "metadata": {},
   "outputs": [],
   "source": [
    "cdf = concatenate_summaries(b)"
   ]
  },
  {
   "cell_type": "code",
   "execution_count": null,
   "metadata": {},
   "outputs": [],
   "source": [
    "available_vdims = cdf.columns.get_level_values(1).unique().values\n",
    "available_vdims"
   ]
  },
  {
   "cell_type": "code",
   "execution_count": null,
   "metadata": {},
   "outputs": [],
   "source": [
    "plotutils.concatenated_summary_curve_factory(cdf, vdims=\"Discharge_Capacity(mAh/g)\")"
   ]
  },
  {
   "cell_type": "code",
   "execution_count": null,
   "metadata": {},
   "outputs": [],
   "source": [
    "plotutils.concatenated_summary_curve_factory(cdf, vdims=[\"Charge_Capacity(mAh/g)\", \"Discharge_Capacity(mAh/g)\"])"
   ]
  },
  {
   "cell_type": "markdown",
   "metadata": {},
   "source": [
    "## Individual"
   ]
  },
  {
   "cell_type": "code",
   "execution_count": null,
   "metadata": {},
   "outputs": [],
   "source": [
    "cell_id = b.experiment.cell_names[0]\n",
    "c = b.experiment.data[cell_id]\n",
    "s = c.cell.summary.reset_index()\n",
    "s.head()"
   ]
  },
  {
   "cell_type": "code",
   "execution_count": null,
   "metadata": {},
   "outputs": [],
   "source": [
    "s.hvplot(x=\"Cycle_Index\", y=\"IR_Discharge(Ohms)\", xlabel=\"Cycle Index\", label=cell_id)"
   ]
  },
  {
   "cell_type": "code",
   "execution_count": null,
   "metadata": {},
   "outputs": [],
   "source": []
  },
  {
   "cell_type": "markdown",
   "metadata": {},
   "source": [
    "## Notes"
   ]
  },
  {
   "cell_type": "markdown",
   "metadata": {},
   "source": [
    "- processing raw data [link](01_{{cookiecutter.notebook_name}}_processing.ipynb)"
   ]
  }
 ],
 "metadata": {
  "kernelspec": {
   "display_name": "cellpy",
   "language": "python",
   "name": "cellpy"
  },
  "language_info": {
   "codemirror_mode": {
    "name": "ipython",
    "version": 3
   },
   "file_extension": ".py",
   "mimetype": "text/x-python",
   "name": "python",
   "nbconvert_exporter": "python",
   "pygments_lexer": "ipython3",
   "version": "3.7.2"
  }
 },
 "nbformat": 4,
 "nbformat_minor": 4
}
