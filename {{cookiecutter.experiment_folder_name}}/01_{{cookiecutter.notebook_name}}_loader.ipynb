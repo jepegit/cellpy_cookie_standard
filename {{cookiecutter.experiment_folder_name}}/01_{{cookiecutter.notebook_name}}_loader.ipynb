{
 "cells": [
  {
   "cell_type": "markdown",
   "metadata": {},
   "source": [
    "# Processing cellpy batch - preparing the data"
   ]
  },
  {
   "cell_type": "markdown",
   "metadata": {},
   "source": [
    "### `{{cookiecutter.project_name}}::{{cookiecutter.session_id}}`"
   ]
  },
  {
   "cell_type": "markdown",
   "metadata": {
    "toc-hr-collapsed": true,
    "toc-nb-collapsed": true
   },
   "source": [
    "**Experimental-id:** `{{cookiecutter.notebook_name}}`  \n",
    "**Short-name:** `{{cookiecutter.session_id}}`  \n",
    "**Project:** `{{cookiecutter.project_name}}`  \n",
    "**By:** `{{cookiecutter.author_name}}`   \n",
    "**Date:** `{{cookiecutter.date}}`  "
   ]
  },
  {
   "cell_type": "markdown",
   "metadata": {},
   "source": [
    "## 1. Setting up everything"
   ]
  },
  {
   "cell_type": "markdown",
   "metadata": {},
   "source": [
    "Note! This template was made for `cellpy` version 0.4.1.a3"
   ]
  },
  {
   "cell_type": "markdown",
   "metadata": {},
   "source": [
    "### Imports"
   ]
  },
  {
   "cell_type": "code",
   "execution_count": null,
   "metadata": {},
   "outputs": [],
   "source": [
    "import sys\n",
    "import cellpy\n",
    "\n",
    "import numpy as np\n",
    "import pandas as pd\n",
    "import matplotlib.pyplot as plt\n",
    "\n",
    "from cellpy import prms\n",
    "from cellpy import prmreader\n",
    "from cellpy.utils import batch, plotutils\n",
    "\n",
    "%matplotlib inline\n",
    "print(f\"cellpy version: {cellpy.__version__}\")"
   ]
  },
  {
   "cell_type": "markdown",
   "metadata": {},
   "source": [
    "### Creating pages and initialise the cellpy batch object\n",
    "If you need to create Journal Pages, please provide appropriate names for the project and the experiment to allow `cellpy` to build the pages."
   ]
  },
  {
   "cell_type": "code",
   "execution_count": null,
   "metadata": {},
   "outputs": [],
   "source": [
    "# Parameters for the batch\n",
    "project = \"{{cookiecutter.project_name}}\"\n",
    "name = \"{{cookiecutter.session_id}}\"\n",
    "batch_col = \"b01\"  # edit this if you are not using the standard batch column\n",
    "\n",
    "# Create the batch object\n",
    "b = batch.init(name, project, batch_col=batch_col)"
   ]
  },
  {
   "cell_type": "markdown",
   "metadata": {},
   "source": [
    "### Set optional parameters\n",
    "You should set overall parameters before creating the journal and lodaing the data. The most common ones are given below (uncomment what you need)."
   ]
  },
  {
   "cell_type": "code",
   "execution_count": null,
   "metadata": {},
   "outputs": [],
   "source": [
    "## Setting some prms if default values are not OK for you\n",
    "# b.experiment.nom_cap = 372.0\n",
    "b.experiment.export_raw = False\n",
    "b.experiment.export_cycles = False\n",
    "b.experiment.export_ica = False\n",
    "# b.experiment.force_cellpy = True  # force to select the cellpy-files\n",
    "# b.experiment.force_raw = True  # force to select the raw files\n",
    "# b.experiment.all_in_memory = True  # store all data in memory, defaults to False\n",
    "# b.save_cellpy = False  # prevent saving the generated cellpy-files \n",
    "# b.last_cycle = 1000  # only load max 1000 cycles"
   ]
  },
  {
   "cell_type": "markdown",
   "metadata": {},
   "source": [
    "### Create the journal and appropriate folder structure"
   ]
  },
  {
   "cell_type": "code",
   "execution_count": null,
   "metadata": {},
   "outputs": [],
   "source": [
    "# load info from your db and write the journal pages\n",
    "b.create_journal()\n",
    "\n",
    "# Create the apropriate folders\n",
    "b.paginate()"
   ]
  },
  {
   "cell_type": "code",
   "execution_count": null,
   "metadata": {},
   "outputs": [],
   "source": [
    "# Show the journal pages\n",
    "b.pages"
   ]
  },
  {
   "cell_type": "markdown",
   "metadata": {},
   "source": [
    "## 2. Loading data"
   ]
  },
  {
   "cell_type": "code",
   "execution_count": null,
   "metadata": {},
   "outputs": [],
   "source": [
    "# load the data (and save .csv-files if you have set export_(raw/cycles/ica) = True)\n",
    "# (this might take some time)\n",
    "b.update()"
   ]
  },
  {
   "cell_type": "markdown",
   "metadata": {},
   "source": [
    "## 3. Initial investigation of the batch experiment"
   ]
  },
  {
   "cell_type": "markdown",
   "metadata": {},
   "source": [
    "### 3.1 Summaries"
   ]
  },
  {
   "cell_type": "code",
   "execution_count": null,
   "metadata": {},
   "outputs": [],
   "source": [
    "# Collect summary-data (e.g. charge capacity vs cycle number) from each cell and export to .csv-file(s).\n",
    "b.combine_summaries()"
   ]
  },
  {
   "cell_type": "code",
   "execution_count": null,
   "metadata": {},
   "outputs": [],
   "source": [
    "# Plot the charge capacity and the C.E. (and resistance) vs. cycle number (standard plot)\n",
    "b.plot_summaries()"
   ]
  },
  {
   "cell_type": "markdown",
   "metadata": {},
   "source": [
    "### 3.2 Remove bad cells"
   ]
  },
  {
   "cell_type": "code",
   "execution_count": null,
   "metadata": {},
   "outputs": [],
   "source": [
    "# Get a report summarising the data\n",
    "b.report()"
   ]
  },
  {
   "cell_type": "markdown",
   "metadata": {},
   "source": [
    "#### The cells I want to remove (and why):"
   ]
  },
  {
   "cell_type": "markdown",
   "metadata": {},
   "source": [
    "Make a note of the cells you remove, e.g. like this:\n",
    "- cell x: missing too many data-points\n",
    "- cell y: stopped after 2 cycles"
   ]
  },
  {
   "cell_type": "markdown",
   "metadata": {},
   "source": [
    "#### Modify the pages"
   ]
  },
  {
   "cell_type": "code",
   "execution_count": null,
   "metadata": {},
   "outputs": [],
   "source": [
    "# # make a copy of pages (in case you do something stupid)\n",
    "# npages = b.pages.copy()"
   ]
  },
  {
   "cell_type": "code",
   "execution_count": null,
   "metadata": {},
   "outputs": [],
   "source": [
    "# # set the updated dataframe as your new pages\n",
    "# b.pages = npages\n",
    "# # if you have made any changes to your journal pages, you should save it again.\n",
    "# b.save_journal()"
   ]
  },
  {
   "cell_type": "markdown",
   "metadata": {},
   "source": [
    "#### Recalculate and link\n",
    "If you have changed parameters that `cellpy` uses internally in its calculations, such as nominal capacity or mass, you will have to do a recalculation. \n",
    "If you have removed cells, you will need to do a new linking."
   ]
  },
  {
   "cell_type": "code",
   "execution_count": null,
   "metadata": {},
   "outputs": [],
   "source": [
    "# b.recalc()\n",
    "# b.link()"
   ]
  },
  {
   "cell_type": "markdown",
   "metadata": {},
   "source": [
    "### 3.3 Raw data\n",
    "You should always have a look at the raw-data to see if everything looks OK. I suggest using `raw_plot` to get a quick overview of the data. If you need more information you can use the `cycle_info_plot` function (remark! it is rather slow, so if you are going to plot a data-set with many cycles you should consider limiting it to render only specific cycles)."
   ]
  },
  {
   "cell_type": "markdown",
   "metadata": {},
   "source": [
    "#### Quick look"
   ]
  },
  {
   "cell_type": "code",
   "execution_count": null,
   "metadata": {},
   "outputs": [],
   "source": [
    "# label = b.cell_names[0]\n",
    "# c = b.experiment.data[label]\n",
    "# plotutils.raw_plot(c)"
   ]
  },
  {
   "cell_type": "markdown",
   "metadata": {},
   "source": [
    "#### Cycle information\n",
    "Gives additional information (rate, steps, etc)."
   ]
  },
  {
   "cell_type": "code",
   "execution_count": null,
   "metadata": {},
   "outputs": [],
   "source": [
    "# label = b.cell_names[0]\n",
    "# c = b.experiment.data[label]\n",
    "# plotutils.cycle_info_plot(c, info_level=1, show_it=True)"
   ]
  },
  {
   "cell_type": "markdown",
   "metadata": {},
   "source": [
    "## 4. Packaging data\n",
    "The notebooks are set up such that they read the journal from the current folder. This is not the default location of the journal files. To be able to load the journal easily, you should duplicate it (run the cell below).\n",
    "\n",
    "If you also would like to share the experiment with others, you should run the `duplicate_cellpy_files` method so that all the cellpy-files will be copied to the `data/interim folder`."
   ]
  },
  {
   "cell_type": "code",
   "execution_count": null,
   "metadata": {},
   "outputs": [],
   "source": [
    "## If you have made any changes to your journal pages, you should save it again.\n",
    "# b.save_journal()"
   ]
  },
  {
   "cell_type": "code",
   "execution_count": null,
   "metadata": {},
   "outputs": [],
   "source": [
    "# Copy the journal to the notebook working folder\n",
    "b.duplicate_journal()"
   ]
  },
  {
   "cell_type": "code",
   "execution_count": null,
   "metadata": {},
   "outputs": [],
   "source": [
    "## If you want to share the experiment notebooks, run this cell to also copy cellpy files to the data folder instead:\n",
    "# b.duplicate_cellpy_files(location=\"standard\")"
   ]
  },
  {
   "cell_type": "markdown",
   "metadata": {},
   "source": [
    "## Links"
   ]
  },
  {
   "cell_type": "markdown",
   "metadata": {},
   "source": [
    "### Notebooks\n",
    "- notes and information [link](00_{{cookiecutter.notebook_name}}_notes.ipynb)\n",
    "- processing raw data [link](01_{{cookiecutter.notebook_name}}_loader.ipynb)\n",
    "- life [link](02_{{cookiecutter.notebook_name}}_life.ipynb)\n",
    "- cycles [link](03_{{cookiecutter.notebook_name}}_cycles.ipynb)\n",
    "- ica [link](04_{{cookiecutter.notebook_name}}_ica.ipynb)\n",
    "- plots [link](05_{{cookiecutter.notebook_name}}_plots.ipynb)"
   ]
  }
 ],
 "metadata": {
  "kernelspec": {
   "display_name": "cellpy",
   "language": "python",
   "name": "cellpy"
  },
  "language_info": {
   "codemirror_mode": {
    "name": "ipython",
    "version": 3
   },
   "file_extension": ".py",
   "mimetype": "text/x-python",
   "name": "python",
   "nbconvert_exporter": "python",
   "pygments_lexer": "ipython3",
   "version": "3.10.4"
  }
 },
 "nbformat": 4,
 "nbformat_minor": 4
}
