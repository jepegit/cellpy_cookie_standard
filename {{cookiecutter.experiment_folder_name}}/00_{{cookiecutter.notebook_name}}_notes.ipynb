{
 "cells": [
  {
   "cell_type": "markdown",
   "metadata": {},
   "source": [
    "# Notes"
   ]
  },
  {
   "cell_type": "markdown",
   "metadata": {},
   "source": [
    "### `{{cookiecutter.project_name}}::{{cookiecutter.session_id}}`"
   ]
  },
  {
   "cell_type": "markdown",
   "metadata": {
    "toc-hr-collapsed": true,
    "toc-nb-collapsed": true
   },
   "source": [
    "## 1. Usage"
   ]
  },
  {
   "cell_type": "markdown",
   "metadata": {},
   "source": [
    "*You can fill inn the MarkDown cells (the cells without \"numbering\") by double-clicking them. Also remember, press `shift + enter` to execute a cell.*\n",
    "\n",
    "A couple of useful links:  \n",
    " - [How to write MarkDown](https://github.com/adam-p/markdown-here/wiki/Markdown-Cheatsheet#hr)\n",
    " - [Jupyter notebooks](https://jupyter.org/)\n",
    " - [cellpy](https://cellpy.readthedocs.io/en/latest/)"
   ]
  },
  {
   "cell_type": "markdown",
   "metadata": {},
   "source": [
    "## 2. Key information about the current experiment"
   ]
  },
  {
   "cell_type": "markdown",
   "metadata": {
    "toc-hr-collapsed": true,
    "toc-nb-collapsed": true
   },
   "source": [
    "**Experimental-id:** `{{cookiecutter.notebook_name}}`  \n",
    "**Short-name:** `{{cookiecutter.session_id}}`  \n",
    "**Project:** `{{cookiecutter.project_name}}`  \n",
    "**By:** `{{cookiecutter.author_name}}`   \n",
    "**Date:** `{{cookiecutter.date}}`  "
   ]
  },
  {
   "cell_type": "markdown",
   "metadata": {},
   "source": [
    "### Notebooks\n",
    "- notes and information [link](00_{{cookiecutter.notebook_name}}_notes.ipynb)\n",
    "- processing raw data [link](01_{{cookiecutter.notebook_name}}_loader.ipynb)\n",
    "- life [link](02_{{cookiecutter.notebook_name}}_life.ipynb)\n",
    "- cycles [link](03_{{cookiecutter.notebook_name}}_cycles.ipynb)\n",
    "- ica [link](04_{{cookiecutter.notebook_name}}_ica.ipynb)\n",
    "- plots [link](05_{{cookiecutter.notebook_name}}_plots.ipynb)"
   ]
  },
  {
   "cell_type": "markdown",
   "metadata": {},
   "source": [
    "## 3. Short summary of the experiment before processing\n",
    "It is often helpful to formulate what you wanted to achieve with your experiment before actually going into depth of the data. I believe that it does not make you \"biased\" when processing your data, but instead sharpens your mind and motivates you to look more closely on your results. I might be wrong, off course. Then just skip filling in this part."
   ]
  },
  {
   "cell_type": "markdown",
   "metadata": {},
   "source": [
    "### Main purpose\n",
    "(*State the main hypothesis for the current set of experiment*)\n",
    "\n"
   ]
  },
  {
   "cell_type": "markdown",
   "metadata": {},
   "source": [
    "### Expected outcome\n",
    "(*What do you expect to find out? What kind of tests did you perform?*)\n",
    "\n",
    "\n",
    "\n",
    "\n"
   ]
  },
  {
   "cell_type": "markdown",
   "metadata": {},
   "source": [
    "### Special considerations\n",
    "(*State if there are any special considerations for this experiment*)\n",
    "\n",
    "\n",
    "\n"
   ]
  },
  {
   "cell_type": "markdown",
   "metadata": {
    "toc-hr-collapsed": true,
    "toc-nb-collapsed": true
   },
   "source": [
    "## 4. Log\n",
    "(*Here you should fill inn what you have done during your analysis*)\n",
    "\n",
    "\n",
    "\n",
    "\n",
    "\n",
    "\n"
   ]
  },
  {
   "cell_type": "markdown",
   "metadata": {
    "toc-hr-collapsed": true,
    "toc-nb-collapsed": true
   },
   "source": [
    "## 5. Summary\n",
    "It is always helpful to formulate what you learned from your experiment. It is very unlikely that I am wrong here. So, please, don't skip filling in this part."
   ]
  },
  {
   "cell_type": "code",
   "execution_count": null,
   "metadata": {},
   "outputs": [],
   "source": []
  },
  {
   "cell_type": "markdown",
   "metadata": {},
   "source": [
    "(*What did you discover?*)\n",
    "\n",
    "(*What should you do further?*)\n"
   ]
  },
  {
   "cell_type": "markdown",
   "metadata": {},
   "source": [
    "## Appendix A - Tips and tricks"
   ]
  },
  {
   "cell_type": "markdown",
   "metadata": {},
   "source": [
    "### Example: Average nominal capacity and mass calculations"
   ]
  },
  {
   "cell_type": "markdown",
   "metadata": {},
   "source": [
    "```python\n",
    "csf = helpers.concatenate_summaries(b)  # multi-index dataframe\n",
    "filter_charge_mah = csf.columns.get_level_values(1) == \"Charge_Capacity(mAh/g)\"\n",
    "scsf = csf.loc[:, filter_charge_mah]\n",
    "\n",
    "scsf.columns = scsf.columns.droplevel(1)\n",
    "\n",
    "df = pd.DataFrame(scsf.mean(), columns=[\"nom_cap_mAh_g\"])\n",
    "\n",
    "df[\"mass_old\"] = b.pages.masses\n",
    "\n",
    "nom_cap = 350.0\n",
    "df[\"adjusted_mass\"]  = df.capacity_old * df.mass_old / nom_cap\n",
    "\n",
    "```"
   ]
  },
  {
   "cell_type": "markdown",
   "metadata": {},
   "source": [
    "### Example: Filtering concatenated summaries"
   ]
  },
  {
   "cell_type": "markdown",
   "metadata": {},
   "source": [
    "```python\n",
    "filter_40 = csf.columns.get_level_values(0).str.contains(\"TFSi_40\") \n",
    "filter_60 = csf.columns.get_level_values(0).str.contains(\"TFSi_60\")\n",
    "filter_80 = csf.columns.get_level_values(0).str.contains(\"TFSi_80\")\n",
    "\n",
    "filter_bad = csf.columns.get_level_values(0).isin([\"20200406_TFSi_40_2_02_cc\", \"20200406_TFSi_60_5_01_cc\"])\n",
    "filter_charge = csf.columns.get_level_values(1) == \"Charge_Capacity\"\n",
    "filter_charge_mah = csf.columns.get_level_values(1) == \"Charge_Capacity(mAh/g)\"\n",
    "\n",
    "# filter out the charge capacity for the three first cycles exluding the bad cells:\n",
    "scsf = csf.loc[1:3, filter_charge_mah & ~filter_bad]\n",
    "\n",
    "# plotting\n",
    "scsf.columns = scsf.columns.droplevel(1)\n",
    "scsf.hvplot.scatter(ylim=(0, 5000))\n",
    "\n",
    "```"
   ]
  },
  {
   "cell_type": "markdown",
   "metadata": {},
   "source": [
    "### Example: Plot all cycles"
   ]
  },
  {
   "cell_type": "markdown",
   "metadata": {},
   "source": [
    "```python\n",
    "voltage_curves = dict()\n",
    "for label in b.experiment.cell_names:\n",
    "    d = b.experiment.data[label]\n",
    "    curves = d.get_cap(label_cycle_number=True, interpolated=True, number_of_points=100)\n",
    "    \n",
    "    if not curves.empty:\n",
    "        curve = hv.Curve(curves, kdims=[\"capacity\", \"cycle\"],       \n",
    "                         vdims=\"voltage\").groupby(\"cycle\").overlay()#.opts(show_legend=False)\n",
    "        voltage_curves[label] = curve\n",
    "    else:\n",
    "        print(f\"[{label} empty]\")\n",
    "        \n",
    "NdLayout_voltage_curves = hv.NdLayout(voltage_curves, kdims='label').cols(3)\n",
    "\n",
    "palette = 'Spectral'\n",
    "NdLayout_voltage_curves.opts(\n",
    "    hv.opts.Curve(color=hv.Palette(palette), tools=['hover']),\n",
    "    hv.opts.NdOverlay(shared_axes=False),\n",
    "    hv.opts.NdLayout(),\n",
    ")\n",
    "```"
   ]
  },
  {
   "cell_type": "code",
   "execution_count": null,
   "metadata": {},
   "outputs": [],
   "source": []
  },
  {
   "cell_type": "code",
   "execution_count": null,
   "metadata": {},
   "outputs": [],
   "source": []
  },
  {
   "cell_type": "code",
   "execution_count": null,
   "metadata": {},
   "outputs": [],
   "source": []
  }
 ],
 "metadata": {
  "kernelspec": {
   "display_name": "cellpy",
   "language": "python",
   "name": "cellpy"
  },
  "language_info": {
   "codemirror_mode": {
    "name": "ipython",
    "version": 3
   },
   "file_extension": ".py",
   "mimetype": "text/x-python",
   "name": "python",
   "nbconvert_exporter": "python",
   "pygments_lexer": "ipython3",
   "version": "3.7.7"
  }
 },
 "nbformat": 4,
 "nbformat_minor": 4
}
