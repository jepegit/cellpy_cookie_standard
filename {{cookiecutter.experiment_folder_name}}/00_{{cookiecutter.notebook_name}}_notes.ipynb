{
 "cells": [
  {
   "cell_type": "markdown",
   "metadata": {},
   "source": [
    "# Notes"
   ]
  },
  {
   "cell_type": "markdown",
   "metadata": {},
   "source": [
    "### `{{cookiecutter.project_name}}::{{cookiecutter.session_id}}`"
   ]
  },
  {
   "cell_type": "markdown",
   "metadata": {},
   "source": [
    "## 1. Usage"
   ]
  },
  {
   "cell_type": "markdown",
   "metadata": {},
   "source": [
    "### 1.1. Jupyter"
   ]
  },
  {
   "cell_type": "markdown",
   "metadata": {},
   "source": [
    "*You can fill inn the MarkDown cells (the cells without \"numbering\") by double-clicking them. Also remember, press `shift + enter` to execute a cell.*\n",
    "\n",
    "A couple of useful links:  \n",
    " - [How to write MarkDown](https://github.com/adam-p/markdown-here/wiki/Markdown-Cheatsheet#hr)\n",
    " - [Jupyter notebooks](https://jupyter.org/)\n",
    " - [cellpy](https://cellpy.readthedocs.io/en/latest/)"
   ]
  },
  {
   "cell_type": "markdown",
   "metadata": {},
   "source": [
    "### 1.2. The `cellpy` notebooks"
   ]
  },
  {
   "cell_type": "markdown",
   "metadata": {},
   "source": [
    "This set of notebooks is intended to give you a structure for performing a proper `cellpy` analysis of your data utilising the `cellpy.utils.bathc` tool.\n",
    "\n",
    "An example of a project structure can be this:\n",
    "\n",
    "```bash\n",
    "\n",
    "cellpy_project/\n",
    "└── experiment_001\n",
    "    ├── batch_file.json\n",
    "    ├── data\n",
    "    │   ├── external\n",
    "    │   ├── interim\n",
    "    │   ├── processed\n",
    "    │   └── raw\n",
    "    ├── out\n",
    "    │   └── note.md\n",
    "    ├── notebook: 00_experiment_001_notes.ipynb\n",
    "    ├── notebook: 01_experiment_001_loader.ipynb\n",
    "    ├── notebook: 02_experiment_001_life.ipynb\n",
    "    ├── notebook: 03_experiment_001_cycles.ipynb\n",
    "    ├── notebook: 04_experiment_001_ica.ipynb\n",
    "    └── notebook: 05_experiment_001_plots.ipynb\n",
    "\n",
    "```\n",
    "\n",
    "The `00_experiment_001_notes.ipynb` notebook can be used for writing a log, as well as giving you some information on how to do stuff.\n",
    "\n",
    "The `01_experiment_001_loader.ipynb` notebook is the one you use to load the data from the tester(s) and create cellpy-files. You should run this first. There are several options on how to store the cellpy-files and the journal, so chose the option that suits you best. You only have to re-run this notebook if your data needs to be updated.\n",
    "\n",
    "The next three notebooks use the cellpy-files produced by `01_experiment_001_loader.ipynb`. Try to keep them \"understandable\" and well structured so that the future you dont get totally lost trying to re-run them.\n",
    "\n",
    "The last notebook is ment to contain important plots that you would like to be able to use later on. They should preferably be \"stand-alone\" and not rely on running the other notebooks (as a helpful gesture to the future you)."
   ]
  },
  {
   "cell_type": "markdown",
   "metadata": {},
   "source": [
    "## 2. Key information about the current experiment"
   ]
  },
  {
   "cell_type": "markdown",
   "metadata": {
    "toc-hr-collapsed": true,
    "toc-nb-collapsed": true
   },
   "source": [
    "**Experimental-id:** `{{cookiecutter.notebook_name}}`  \n",
    "**Short-name:** `{{cookiecutter.session_id}}`  \n",
    "**Project:** `{{cookiecutter.project_name}}`  \n",
    "**By:** `{{cookiecutter.author_name}}`   \n",
    "**Date:** `{{cookiecutter.date}}`  "
   ]
  },
  {
   "cell_type": "markdown",
   "metadata": {},
   "source": [
    "### Notebooks\n",
    "- notes and information [link](00_{{cookiecutter.notebook_name}}_notes.ipynb)\n",
    "- processing raw data [link](01_{{cookiecutter.notebook_name}}_loader.ipynb)\n",
    "- life [link](02_{{cookiecutter.notebook_name}}_life.ipynb)\n",
    "- cycles [link](03_{{cookiecutter.notebook_name}}_cycles.ipynb)\n",
    "- ica [link](04_{{cookiecutter.notebook_name}}_ica.ipynb)\n",
    "- plots [link](05_{{cookiecutter.notebook_name}}_plots.ipynb)"
   ]
  },
  {
   "cell_type": "markdown",
   "metadata": {},
   "source": [
    "## 3. Short summary of the experiment before processing\n",
    "It is often helpful to formulate what you wanted to achieve with your experiment before actually going into depth of the data. I believe that it does not make you \"biased\" when processing your data, but instead sharpens your mind and motivates you to look more closely on your results. I might be wrong, off course. Then just skip filling in this part."
   ]
  },
  {
   "cell_type": "markdown",
   "metadata": {},
   "source": [
    "### Main purpose\n",
    "(*State the main hypothesis for the current set of experiment*)\n",
    "\n"
   ]
  },
  {
   "cell_type": "markdown",
   "metadata": {},
   "source": [
    "### Expected outcome\n",
    "(*What do you expect to find out? What kind of tests did you perform?*)\n",
    "\n",
    "\n",
    "\n",
    "\n"
   ]
  },
  {
   "cell_type": "markdown",
   "metadata": {},
   "source": [
    "### Special considerations\n",
    "(*State if there are any special considerations for this experiment*)\n",
    "\n",
    "\n",
    "\n"
   ]
  },
  {
   "cell_type": "markdown",
   "metadata": {
    "toc-hr-collapsed": true,
    "toc-nb-collapsed": true
   },
   "source": [
    "## 4. Log\n",
    "(*Here you should fill inn what you have done during your analysis*)\n",
    "\n",
    "\n",
    "\n",
    "\n",
    "\n",
    "\n"
   ]
  },
  {
   "cell_type": "markdown",
   "metadata": {
    "toc-hr-collapsed": true,
    "toc-nb-collapsed": true
   },
   "source": [
    "## 5. Summary\n",
    "It is always helpful to formulate what you learned from your experiment. It is very unlikely that I am wrong here. So, please, don't skip filling in this part."
   ]
  },
  {
   "cell_type": "code",
   "execution_count": null,
   "metadata": {},
   "outputs": [],
   "source": []
  },
  {
   "cell_type": "markdown",
   "metadata": {},
   "source": [
    "(*What did you discover?*)\n",
    "\n",
    "(*What should you do further?*)\n"
   ]
  },
  {
   "cell_type": "markdown",
   "metadata": {},
   "source": [
    "## Appendix A - Tips and tricks"
   ]
  },
  {
   "cell_type": "markdown",
   "metadata": {},
   "source": [
    "### Trick: Use magic to automatically reload modules\n",
    "This allows you to modify modules (and scripts) in another editor and see the changes within Jupyter without shutting down the kernel."
   ]
  },
  {
   "cell_type": "markdown",
   "metadata": {},
   "source": [
    "```python\n",
    "# in the first notebook cell\n",
    "%load_ext autoreload\n",
    "%autoreload 2\n",
    "```"
   ]
  },
  {
   "cell_type": "markdown",
   "metadata": {},
   "source": [
    "### Example: Find files if automatic search fails"
   ]
  },
  {
   "cell_type": "markdown",
   "metadata": {},
   "source": [
    "```python\n",
    "def add_files_to_pages(p):\n",
    "    raw_folder = pathlib.Path(prms.Paths.rawdatadir)\n",
    "    rf = []\n",
    "    for f in p.index:\n",
    "        print(f, end=\": \")\n",
    "        new_rf = list(raw_folder.glob(f\"{f}*.res\"))\n",
    "        print(new_rf)\n",
    "        rf.append(new_rf)\n",
    "    p.raw_file_names = rf\n",
    "    return p\n",
    "\n",
    "b.pages = add_files_to_pages(b.pages)\n",
    "```"
   ]
  },
  {
   "cell_type": "markdown",
   "metadata": {},
   "source": [
    "### Example: Average nominal capacity and mass calculations"
   ]
  },
  {
   "cell_type": "markdown",
   "metadata": {},
   "source": [
    "```python\n",
    "csf = helpers.concatenate_summaries(b)  # multi-index dataframe\n",
    "filter_charge_mah = csf.columns.get_level_values(1) == \"charge_capacity_u_mAh_g\"\n",
    "scsf = csf.loc[:, filter_charge_mah]\n",
    "\n",
    "scsf.columns = scsf.columns.droplevel(1)\n",
    "\n",
    "df = pd.DataFrame(scsf.mean(), columns=[\"nom_cap_mAh_g\"])\n",
    "\n",
    "df[\"mass_old\"] = b.pages.masses\n",
    "\n",
    "nom_cap = 350.0\n",
    "df[\"adjusted_mass\"]  = df.capacity_old * df.mass_old / nom_cap\n",
    "\n",
    "```"
   ]
  },
  {
   "cell_type": "markdown",
   "metadata": {},
   "source": [
    "### Example: Filtering concatenated summaries"
   ]
  },
  {
   "cell_type": "markdown",
   "metadata": {},
   "source": [
    "```python\n",
    "filter_40 = csf.columns.get_level_values(0).str.contains(\"TFSi_40\") \n",
    "filter_60 = csf.columns.get_level_values(0).str.contains(\"TFSi_60\")\n",
    "filter_80 = csf.columns.get_level_values(0).str.contains(\"TFSi_80\")\n",
    "\n",
    "filter_bad = csf.columns.get_level_values(0).isin([\"20200406_TFSi_40_2_02_cc\", \"20200406_TFSi_60_5_01_cc\"])\n",
    "filter_charge = csf.columns.get_level_values(1) == \"Charge_Capacity\"\n",
    "filter_charge_mah = csf.columns.get_level_values(1) == \"Charge_Capacity(mAh/g)\"\n",
    "\n",
    "# filter out the charge capacity for the three first cycles exluding the bad cells:\n",
    "scsf = csf.loc[1:3, filter_charge_mah & ~filter_bad]\n",
    "\n",
    "# plotting\n",
    "scsf.columns = scsf.columns.droplevel(1)\n",
    "scsf.hvplot.scatter(ylim=(0, 5000))\n",
    "\n",
    "```"
   ]
  },
  {
   "cell_type": "markdown",
   "metadata": {},
   "source": [
    "### Example: Plot all cycles"
   ]
  },
  {
   "cell_type": "markdown",
   "metadata": {},
   "source": [
    "```python\n",
    "voltage_curves = dict()\n",
    "for label in b.experiment.cell_names:\n",
    "    d = b.experiment.data[label]\n",
    "    curves = d.get_cap(label_cycle_number=True, interpolated=True, number_of_points=100)\n",
    "    \n",
    "    if not curves.empty:\n",
    "        curve = hv.Curve(curves, kdims=[\"capacity\", \"cycle\"],       \n",
    "                         vdims=\"voltage\").groupby(\"cycle\").overlay()#.opts(show_legend=False)\n",
    "        voltage_curves[label] = curve\n",
    "    else:\n",
    "        print(f\"[{label} empty]\")\n",
    "        \n",
    "NdLayout_voltage_curves = hv.NdLayout(voltage_curves, kdims='label').cols(3)\n",
    "\n",
    "palette = 'Spectral'\n",
    "NdLayout_voltage_curves.opts(\n",
    "    hv.opts.Curve(color=hv.Palette(palette), tools=['hover']),\n",
    "    hv.opts.NdOverlay(shared_axes=False),\n",
    "    hv.opts.NdLayout(),\n",
    ")\n",
    "```"
   ]
  },
  {
   "cell_type": "markdown",
   "metadata": {},
   "source": [
    "### Example: Select first cycle from all cells and save them as a csv-file with headers"
   ]
  },
  {
   "cell_type": "markdown",
   "metadata": {},
   "source": [
    "```python\n",
    "import pathlib\n",
    "import csv\n",
    "from itertools import zip_longest\n",
    "\n",
    "# Creating \"csv-save-able\" structure\n",
    "header1 = []\n",
    "header2 = []\n",
    "out = []\n",
    "cycle = 1\n",
    "\n",
    "for label in cell_labels:\n",
    "    print(label, end=\"\")\n",
    "    try:\n",
    "        c = b.experiment.data[label]\n",
    "        sss = c.get_cap(cycle=cycle, interpolated=True, dx=0.01)\n",
    "        cap = sss.capacity\n",
    "        vlt = sss.voltage\n",
    "        out.append(cap)\n",
    "        out.append(vlt)\n",
    "        header1.append(label)\n",
    "        header1.append(label)\n",
    "        header2.append(\"capacity\")\n",
    "        header2.append(\"voltage\")\n",
    "        print(\" - OK\")\n",
    "    except:\n",
    "        print(\" - could not process\")\n",
    "        \n",
    "# Saving to csv (list of lists)\n",
    "filename = \"data/processed/first_voltage_curve_for_all_cells.csv\"\n",
    "\n",
    "with open(filename,\"w+\") as f:\n",
    "    writer = csv.writer(f, delimiter=';')\n",
    "    writer.writerow(header1)\n",
    "    writer.writerow(header2)\n",
    "    for values in zip_longest(*out):\n",
    "        writer.writerow(values)\n",
    "\n",
    "```"
   ]
  },
  {
   "cell_type": "markdown",
   "metadata": {},
   "source": [
    "### Example: Film-plot of the evolution of dQ/dV peaks"
   ]
  },
  {
   "cell_type": "markdown",
   "metadata": {},
   "source": [
    "```python\n",
    "import holoviews as hv\n",
    "\n",
    "import cellpy\n",
    "from cellpy.utils import ica\n",
    "\n",
    "c = cellpy.get(\"a/cellpy/file.h5\")\n",
    "\n",
    "\n",
    "first_cycle = 2\n",
    "last_cycle = 30\n",
    "\n",
    "cycle = list(range(first_cycle,last_cycle+1))\n",
    "ica_c, ica_dc = ica.dqdv_frames(c,cycle=cycle, voltage_resolution=0.005, normalizing_factor=1, split=True, tidy=False)\n",
    "\n",
    "voltages_c = ica_c.voltage.values.ravel()\n",
    "dqs_c = ica_c.drop(\"voltage\", axis=1)\n",
    "cycles_c = dqs_c.columns.get_level_values(0).values.ravel().astype('int32')\n",
    "dqs_c = dqs_c.values.T\n",
    "\n",
    "voltages_dc = ica_dc.voltage.values.ravel()\n",
    "dqs_dc = ica_dc.drop(\"voltage\", axis=1)\n",
    "cycles_dc = dqs_dc.columns.get_level_values(0).values.ravel().astype('int32')\n",
    "dqs_dc = -dqs_dc.values.T\n",
    "\n",
    "options = {\n",
    "    \"xlabel\": \"voltage\",\n",
    "    \"ylabel\": \"cycle number\",\n",
    "    \"xlim\": (0.2, 0.65),\n",
    "}\n",
    "ica_im_c = hv.Image((voltages_c, cycles_c, dqs_c)).opts(title=f\"charge\", **options)\n",
    "ica_im_dc = hv.Image((voltages_dc, cycles_dc, dqs_dc)).opts(title=f\"discharge\", **options)\n",
    "\n",
    "ica_im_c + ica_im_dc\n",
    "\n",
    "```"
   ]
  },
  {
   "cell_type": "code",
   "execution_count": null,
   "metadata": {},
   "outputs": [],
   "source": []
  }
 ],
 "metadata": {
  "kernelspec": {
   "display_name": "cellpy",
   "language": "python",
   "name": "cellpy"
  },
  "language_info": {
   "codemirror_mode": {
    "name": "ipython",
    "version": 3
   },
   "file_extension": ".py",
   "mimetype": "text/x-python",
   "name": "python",
   "nbconvert_exporter": "python",
   "pygments_lexer": "ipython3",
   "version": "3.8.3"
  }
 },
 "nbformat": 4,
 "nbformat_minor": 4
}
