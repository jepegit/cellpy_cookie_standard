{
 "cells": [
  {
   "cell_type": "markdown",
   "metadata": {},
   "source": [
    "# {{cookiecutter.notebook_name}} - ica"
   ]
  },
  {
   "cell_type": "code",
   "execution_count": null,
   "metadata": {},
   "outputs": [],
   "source": [
    "import numpy as np\n",
    "import pandas as pd\n",
    "import matplotlib.pyplot as plt\n",
    "import os\n",
    "import pathlib\n",
    "\n",
    "import cellpy\n",
    "from cellpy import prms\n",
    "from cellpy import prmreader\n",
    "from cellpy.utils import batch, helpers, plotutils, ica\n",
    "import holoviews as hv\n",
    "from holoviews import opts"
   ]
  },
  {
   "cell_type": "code",
   "execution_count": null,
   "metadata": {},
   "outputs": [],
   "source": [
    "%matplotlib inline\n",
    "hv.extension('bokeh')\n",
    "pd.set_option('display.max_columns', 70)"
   ]
  },
  {
   "cell_type": "code",
   "execution_count": null,
   "metadata": {},
   "outputs": [],
   "source": [
    "cellpy_batch_file = \"cellpy_batch_\" + \"{{cookiecutter.session_id}}\" + \".json\""
   ]
  },
  {
   "cell_type": "code",
   "execution_count": null,
   "metadata": {},
   "outputs": [],
   "source": [
    "b = batch.init(default_log_level=\"INFO\", db_reader=None)\n",
    "b.experiment.journal.from_file(cellpy_batch_file)\n",
    "b.link()\n",
    "cell_labels = b.experiment.cell_names\n",
    "print(\" cell labels: \".center(80, \"-\"))\n",
    "print(\" - \".join(cell_labels))"
   ]
  },
  {
   "cell_type": "markdown",
   "metadata": {},
   "source": [
    "# Plotting"
   ]
  },
  {
   "cell_type": "code",
   "execution_count": null,
   "metadata": {},
   "outputs": [],
   "source": [
    "ica_curves = dict()\n",
    "for label in b.experiment.cell_names:\n",
    "    print(label)\n",
    "    d = b.experiment.data[label]\n",
    "    try:\n",
    "        tidy_ica = ica.dqdv_frames(d)\n",
    "    except:\n",
    "        print(f\"[{label} unsuccessfull]\")\n",
    "    else:\n",
    "        ica_curve = hv.Curve(tidy_ica[tidy_ica.cycle < 100], kdims=['voltage', 'cycle'], vdims=['dq'], label=\"Incremental capacity plot\").groupby(\"cycle\").overlay().opts(show_legend=False)\n",
    "        ica_curves[label] = ica_curve"
   ]
  },
  {
   "cell_type": "code",
   "execution_count": null,
   "metadata": {},
   "outputs": [],
   "source": [
    "NdLayout_ica = hv.NdLayout(ica_curves, kdims='label').cols(3)"
   ]
  },
  {
   "cell_type": "code",
   "execution_count": null,
   "metadata": {},
   "outputs": [],
   "source": [
    "palette = 'Spectral'\n",
    "NdLayout_ica.opts(\n",
    "    hv.opts.Curve(color=hv.Palette(palette), tools=['hover']),\n",
    "    hv.opts.NdOverlay(shared_axes=False),\n",
    "    hv.opts.NdLayout()\n",
    ")"
   ]
  },
  {
   "cell_type": "markdown",
   "metadata": {},
   "source": [
    "## Notes"
   ]
  },
  {
   "cell_type": "markdown",
   "metadata": {},
   "source": [
    "- processing raw data [link](01_{{cookiecutter.notebook_name}}_processing.ipynb)"
   ]
  }
 ],
 "metadata": {
  "kernelspec": {
   "display_name": "cellpy",
   "language": "python",
   "name": "cellpy"
  },
  "language_info": {
   "codemirror_mode": {
    "name": "ipython",
    "version": 3
   },
   "file_extension": ".py",
   "mimetype": "text/x-python",
   "name": "python",
   "nbconvert_exporter": "python",
   "pygments_lexer": "ipython3",
   "version": "3.7.2"
  }
 },
 "nbformat": 4,
 "nbformat_minor": 4
}
